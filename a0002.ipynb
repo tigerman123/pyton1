{
 "cells": [
  {
   "cell_type": "code",
   "execution_count": 5,
   "id": "eb7dafaa-30db-4c88-8797-29526e3df1e0",
   "metadata": {},
   "outputs": [],
   "source": [
    "import turtle as t \n",
    "\n",
    "t. shape('turtle')\n",
    "t.bgcolor('black')\n",
    "t.color('green')\n",
    "t.speed(0)\n",
    "\n",
    "n = 50\n",
    "for i in range(n):\n",
    "    t.circle(200)\n",
    "    t.left(360/n)\n",
    "\n",
    "t.mainloop()"
   ]
  },
  {
   "cell_type": "code",
   "execution_count": 11,
   "id": "7f4ef97a-e1d2-4d75-b31f-f48e8a816e17",
   "metadata": {},
   "outputs": [],
   "source": [
    "import turtle as t \n",
    "\n",
    "t. shape('turtle')\n",
    "t.bgcolor('black')\n",
    "t.color('yellow')\n",
    "t.speed(0)\n",
    "\n",
    "n = 89\n",
    "for i in range(500):\n",
    "    t.fd(i)\n",
    "    t.left(n)\n",
    "\n",
    "t.mainloop()"
   ]
  },
  {
   "cell_type": "code",
   "execution_count": 3,
   "id": "a18926c4-8b9d-4e15-b50b-b68b80628a6e",
   "metadata": {},
   "outputs": [],
   "source": [
    "import turtle as t \n",
    "\n",
    "t. shape('turtle')\n",
    "t.bgcolor('black')\n",
    "t.color('yellow')\n",
    "t.speed(0)\n",
    "\n",
    "t.penup()\n",
    "t.goto(400, 0)\n",
    "t.pendown()\n",
    "\n",
    "t.color('red')\n",
    "t.begin_fill()\n",
    "t.seth(90)\n",
    "t.circle(400, 180)\n",
    "t.end_fill()\n",
    "\n",
    "t.seth(270)\n",
    "t.begin_fill()\n",
    "t.circle(200, 180)\n",
    "t.end_fill()\n",
    "\n",
    "\n",
    "\n",
    "t.mainloop()"
   ]
  }
 ],
 "metadata": {
  "kernelspec": {
   "display_name": "Python 3 (ipykernel)",
   "language": "python",
   "name": "python3"
  },
  "language_info": {
   "codemirror_mode": {
    "name": "ipython",
    "version": 3
   },
   "file_extension": ".py",
   "mimetype": "text/x-python",
   "name": "python",
   "nbconvert_exporter": "python",
   "pygments_lexer": "ipython3",
   "version": "3.9.7"
  }
 },
 "nbformat": 4,
 "nbformat_minor": 5
}
